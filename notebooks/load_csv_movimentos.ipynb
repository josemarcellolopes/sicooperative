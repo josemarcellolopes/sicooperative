{
 "cells": [
  {
   "cell_type": "code",
   "execution_count": 1,
   "metadata": {},
   "outputs": [],
   "source": [
    "import pandas as pd\n",
    "\n",
    "from sqlalchemy import create_engine"
   ]
  },
  {
   "cell_type": "code",
   "execution_count": 2,
   "metadata": {},
   "outputs": [],
   "source": [
    "username = 'sicooperative'\n",
    "password = 'sicooperative'\n",
    "host     = 'localhost'\n",
    "database = 'sicooperative'"
   ]
  },
  {
   "cell_type": "code",
   "execution_count": 3,
   "metadata": {},
   "outputs": [],
   "source": [
    "connection_string = f'mysql+mysqlconnector://{username}:{password}@{host}/{database}'"
   ]
  },
  {
   "cell_type": "code",
   "execution_count": 4,
   "metadata": {},
   "outputs": [],
   "source": [
    "engine = create_engine(connection_string)"
   ]
  },
  {
   "cell_type": "code",
   "execution_count": 5,
   "metadata": {},
   "outputs": [],
   "source": [
    "df = pd.read_csv('../data/movimentos.csv')"
   ]
  },
  {
   "cell_type": "code",
   "execution_count": 8,
   "metadata": {},
   "outputs": [
    {
     "data": {
      "text/html": [
       "<div>\n",
       "<style scoped>\n",
       "    .dataframe tbody tr th:only-of-type {\n",
       "        vertical-align: middle;\n",
       "    }\n",
       "\n",
       "    .dataframe tbody tr th {\n",
       "        vertical-align: top;\n",
       "    }\n",
       "\n",
       "    .dataframe thead th {\n",
       "        text-align: right;\n",
       "    }\n",
       "</style>\n",
       "<table border=\"1\" class=\"dataframe\">\n",
       "  <thead>\n",
       "    <tr style=\"text-align: right;\">\n",
       "      <th></th>\n",
       "      <th>vlr_transacao_movimento</th>\n",
       "      <th>descricao_transacao_movimento</th>\n",
       "      <th>data_movimento</th>\n",
       "      <th>id_cartao</th>\n",
       "    </tr>\n",
       "  </thead>\n",
       "  <tbody>\n",
       "    <tr>\n",
       "      <th>0</th>\n",
       "      <td>151.55</td>\n",
       "      <td>Academia - Mensalidade</td>\n",
       "      <td>2020-01-01</td>\n",
       "      <td>132</td>\n",
       "    </tr>\n",
       "    <tr>\n",
       "      <th>1</th>\n",
       "      <td>458.92</td>\n",
       "      <td>Academia - Mensalidade</td>\n",
       "      <td>2020-01-01</td>\n",
       "      <td>5</td>\n",
       "    </tr>\n",
       "    <tr>\n",
       "      <th>2</th>\n",
       "      <td>215.90</td>\n",
       "      <td>E-commerce - Compra online</td>\n",
       "      <td>2020-01-01</td>\n",
       "      <td>229</td>\n",
       "    </tr>\n",
       "    <tr>\n",
       "      <th>3</th>\n",
       "      <td>429.70</td>\n",
       "      <td>Supermercado - Compra de alimentos</td>\n",
       "      <td>2020-01-01</td>\n",
       "      <td>211</td>\n",
       "    </tr>\n",
       "    <tr>\n",
       "      <th>4</th>\n",
       "      <td>236.52</td>\n",
       "      <td>Posto de Gasolina - Abastecimento</td>\n",
       "      <td>2020-01-01</td>\n",
       "      <td>163</td>\n",
       "    </tr>\n",
       "    <tr>\n",
       "      <th>...</th>\n",
       "      <td>...</td>\n",
       "      <td>...</td>\n",
       "      <td>...</td>\n",
       "      <td>...</td>\n",
       "    </tr>\n",
       "    <tr>\n",
       "      <th>188795</th>\n",
       "      <td>239.47</td>\n",
       "      <td>Farmácia - Medicamentos</td>\n",
       "      <td>2025-03-02</td>\n",
       "      <td>198</td>\n",
       "    </tr>\n",
       "    <tr>\n",
       "      <th>188796</th>\n",
       "      <td>359.34</td>\n",
       "      <td>Academia - Mensalidade</td>\n",
       "      <td>2025-03-02</td>\n",
       "      <td>48</td>\n",
       "    </tr>\n",
       "    <tr>\n",
       "      <th>188797</th>\n",
       "      <td>299.79</td>\n",
       "      <td>Cinema - Ingresso</td>\n",
       "      <td>2025-03-02</td>\n",
       "      <td>107</td>\n",
       "    </tr>\n",
       "    <tr>\n",
       "      <th>188798</th>\n",
       "      <td>354.85</td>\n",
       "      <td>Cinema - Ingresso</td>\n",
       "      <td>2025-03-02</td>\n",
       "      <td>74</td>\n",
       "    </tr>\n",
       "    <tr>\n",
       "      <th>188799</th>\n",
       "      <td>228.89</td>\n",
       "      <td>Supermercado - Compra de alimentos</td>\n",
       "      <td>2025-03-02</td>\n",
       "      <td>226</td>\n",
       "    </tr>\n",
       "  </tbody>\n",
       "</table>\n",
       "<p>188800 rows × 4 columns</p>\n",
       "</div>"
      ],
      "text/plain": [
       "        vlr_transacao_movimento       descricao_transacao_movimento  \\\n",
       "0                        151.55              Academia - Mensalidade   \n",
       "1                        458.92              Academia - Mensalidade   \n",
       "2                        215.90          E-commerce - Compra online   \n",
       "3                        429.70  Supermercado - Compra de alimentos   \n",
       "4                        236.52   Posto de Gasolina - Abastecimento   \n",
       "...                         ...                                 ...   \n",
       "188795                   239.47             Farmácia - Medicamentos   \n",
       "188796                   359.34              Academia - Mensalidade   \n",
       "188797                   299.79                   Cinema - Ingresso   \n",
       "188798                   354.85                   Cinema - Ingresso   \n",
       "188799                   228.89  Supermercado - Compra de alimentos   \n",
       "\n",
       "       data_movimento  id_cartao  \n",
       "0          2020-01-01        132  \n",
       "1          2020-01-01          5  \n",
       "2          2020-01-01        229  \n",
       "3          2020-01-01        211  \n",
       "4          2020-01-01        163  \n",
       "...               ...        ...  \n",
       "188795     2025-03-02        198  \n",
       "188796     2025-03-02         48  \n",
       "188797     2025-03-02        107  \n",
       "188798     2025-03-02         74  \n",
       "188799     2025-03-02        226  \n",
       "\n",
       "[188800 rows x 4 columns]"
      ]
     },
     "execution_count": 8,
     "metadata": {},
     "output_type": "execute_result"
    }
   ],
   "source": [
    "df"
   ]
  },
  {
   "cell_type": "code",
   "execution_count": 7,
   "metadata": {},
   "outputs": [],
   "source": [
    "if 'id_movimento' in df.columns:\n",
    "\n",
    "    df = df.drop(columns=['id_movimento'])"
   ]
  },
  {
   "cell_type": "code",
   "execution_count": 9,
   "metadata": {},
   "outputs": [
    {
     "data": {
      "text/plain": [
       "188800"
      ]
     },
     "execution_count": 9,
     "metadata": {},
     "output_type": "execute_result"
    }
   ],
   "source": [
    "df.to_sql(name='movimento', con=engine, if_exists=\"append\", index=False)"
   ]
  }
 ],
 "metadata": {
  "kernelspec": {
   "display_name": "Python 3",
   "language": "python",
   "name": "python3"
  },
  "language_info": {
   "codemirror_mode": {
    "name": "ipython",
    "version": 3
   },
   "file_extension": ".py",
   "mimetype": "text/x-python",
   "name": "python",
   "nbconvert_exporter": "python",
   "pygments_lexer": "ipython3",
   "version": "3.13.2"
  }
 },
 "nbformat": 4,
 "nbformat_minor": 2
}
