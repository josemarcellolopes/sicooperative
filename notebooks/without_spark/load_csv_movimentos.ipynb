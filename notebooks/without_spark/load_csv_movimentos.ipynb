{
 "cells": [
  {
   "cell_type": "code",
   "execution_count": 1,
   "metadata": {},
   "outputs": [],
   "source": [
    "import pandas as pd\n",
    "\n",
    "from sqlalchemy import create_engine"
   ]
  },
  {
   "cell_type": "code",
   "execution_count": 2,
   "metadata": {},
   "outputs": [],
   "source": [
    "username = 'sicooperative'\n",
    "password = 'admin'\n",
    "host     = 'localhost'\n",
    "database = 'sicooperative'"
   ]
  },
  {
   "cell_type": "code",
   "execution_count": 3,
   "metadata": {},
   "outputs": [],
   "source": [
    "connection_string = f'mysql+mysqlconnector://{username}:{password}@{host}/{database}'"
   ]
  },
  {
   "cell_type": "code",
   "execution_count": 4,
   "metadata": {},
   "outputs": [],
   "source": [
    "engine = create_engine(connection_string)"
   ]
  },
  {
   "cell_type": "code",
   "execution_count": 5,
   "metadata": {},
   "outputs": [],
   "source": [
    "df = pd.read_csv('../../data/movimentos.csv')"
   ]
  },
  {
   "cell_type": "code",
   "execution_count": 6,
   "metadata": {},
   "outputs": [
    {
     "data": {
      "text/html": [
       "<div>\n",
       "<style scoped>\n",
       "    .dataframe tbody tr th:only-of-type {\n",
       "        vertical-align: middle;\n",
       "    }\n",
       "\n",
       "    .dataframe tbody tr th {\n",
       "        vertical-align: top;\n",
       "    }\n",
       "\n",
       "    .dataframe thead th {\n",
       "        text-align: right;\n",
       "    }\n",
       "</style>\n",
       "<table border=\"1\" class=\"dataframe\">\n",
       "  <thead>\n",
       "    <tr style=\"text-align: right;\">\n",
       "      <th></th>\n",
       "      <th>id_movimento</th>\n",
       "      <th>vlr_transacao_movimento</th>\n",
       "      <th>descricao_transacao_movimento</th>\n",
       "      <th>data_movimento</th>\n",
       "      <th>id_cartao</th>\n",
       "    </tr>\n",
       "  </thead>\n",
       "  <tbody>\n",
       "    <tr>\n",
       "      <th>0</th>\n",
       "      <td>1</td>\n",
       "      <td>151.55</td>\n",
       "      <td>Academia - Mensalidade</td>\n",
       "      <td>2020-01-01</td>\n",
       "      <td>132</td>\n",
       "    </tr>\n",
       "    <tr>\n",
       "      <th>1</th>\n",
       "      <td>2</td>\n",
       "      <td>458.92</td>\n",
       "      <td>Academia - Mensalidade</td>\n",
       "      <td>2020-01-01</td>\n",
       "      <td>5</td>\n",
       "    </tr>\n",
       "    <tr>\n",
       "      <th>2</th>\n",
       "      <td>3</td>\n",
       "      <td>215.90</td>\n",
       "      <td>E-commerce - Compra online</td>\n",
       "      <td>2020-01-01</td>\n",
       "      <td>229</td>\n",
       "    </tr>\n",
       "    <tr>\n",
       "      <th>3</th>\n",
       "      <td>4</td>\n",
       "      <td>429.70</td>\n",
       "      <td>Supermercado - Compra de alimentos</td>\n",
       "      <td>2020-01-01</td>\n",
       "      <td>211</td>\n",
       "    </tr>\n",
       "    <tr>\n",
       "      <th>4</th>\n",
       "      <td>5</td>\n",
       "      <td>236.52</td>\n",
       "      <td>Posto de Gasolina - Abastecimento</td>\n",
       "      <td>2020-01-01</td>\n",
       "      <td>163</td>\n",
       "    </tr>\n",
       "    <tr>\n",
       "      <th>...</th>\n",
       "      <td>...</td>\n",
       "      <td>...</td>\n",
       "      <td>...</td>\n",
       "      <td>...</td>\n",
       "      <td>...</td>\n",
       "    </tr>\n",
       "    <tr>\n",
       "      <th>188795</th>\n",
       "      <td>188796</td>\n",
       "      <td>239.47</td>\n",
       "      <td>Farmácia - Medicamentos</td>\n",
       "      <td>2025-03-02</td>\n",
       "      <td>198</td>\n",
       "    </tr>\n",
       "    <tr>\n",
       "      <th>188796</th>\n",
       "      <td>188797</td>\n",
       "      <td>359.34</td>\n",
       "      <td>Academia - Mensalidade</td>\n",
       "      <td>2025-03-02</td>\n",
       "      <td>48</td>\n",
       "    </tr>\n",
       "    <tr>\n",
       "      <th>188797</th>\n",
       "      <td>188798</td>\n",
       "      <td>299.79</td>\n",
       "      <td>Cinema - Ingresso</td>\n",
       "      <td>2025-03-02</td>\n",
       "      <td>107</td>\n",
       "    </tr>\n",
       "    <tr>\n",
       "      <th>188798</th>\n",
       "      <td>188799</td>\n",
       "      <td>354.85</td>\n",
       "      <td>Cinema - Ingresso</td>\n",
       "      <td>2025-03-02</td>\n",
       "      <td>74</td>\n",
       "    </tr>\n",
       "    <tr>\n",
       "      <th>188799</th>\n",
       "      <td>188800</td>\n",
       "      <td>228.89</td>\n",
       "      <td>Supermercado - Compra de alimentos</td>\n",
       "      <td>2025-03-02</td>\n",
       "      <td>226</td>\n",
       "    </tr>\n",
       "  </tbody>\n",
       "</table>\n",
       "<p>188800 rows × 5 columns</p>\n",
       "</div>"
      ],
      "text/plain": [
       "        id_movimento  vlr_transacao_movimento  \\\n",
       "0                  1                   151.55   \n",
       "1                  2                   458.92   \n",
       "2                  3                   215.90   \n",
       "3                  4                   429.70   \n",
       "4                  5                   236.52   \n",
       "...              ...                      ...   \n",
       "188795        188796                   239.47   \n",
       "188796        188797                   359.34   \n",
       "188797        188798                   299.79   \n",
       "188798        188799                   354.85   \n",
       "188799        188800                   228.89   \n",
       "\n",
       "             descricao_transacao_movimento data_movimento  id_cartao  \n",
       "0                   Academia - Mensalidade     2020-01-01        132  \n",
       "1                   Academia - Mensalidade     2020-01-01          5  \n",
       "2               E-commerce - Compra online     2020-01-01        229  \n",
       "3       Supermercado - Compra de alimentos     2020-01-01        211  \n",
       "4        Posto de Gasolina - Abastecimento     2020-01-01        163  \n",
       "...                                    ...            ...        ...  \n",
       "188795             Farmácia - Medicamentos     2025-03-02        198  \n",
       "188796              Academia - Mensalidade     2025-03-02         48  \n",
       "188797                   Cinema - Ingresso     2025-03-02        107  \n",
       "188798                   Cinema - Ingresso     2025-03-02         74  \n",
       "188799  Supermercado - Compra de alimentos     2025-03-02        226  \n",
       "\n",
       "[188800 rows x 5 columns]"
      ]
     },
     "execution_count": 6,
     "metadata": {},
     "output_type": "execute_result"
    }
   ],
   "source": [
    "df"
   ]
  },
  {
   "cell_type": "code",
   "execution_count": 7,
   "metadata": {},
   "outputs": [],
   "source": [
    "if 'id_movimento' in df.columns:\n",
    "\n",
    "    df = df.drop(columns=['id_movimento'])"
   ]
  },
  {
   "cell_type": "code",
   "execution_count": 8,
   "metadata": {},
   "outputs": [
    {
     "data": {
      "text/plain": [
       "188800"
      ]
     },
     "execution_count": 8,
     "metadata": {},
     "output_type": "execute_result"
    }
   ],
   "source": [
    "df.to_sql(name='movimento', con=engine, if_exists=\"append\", index=False)"
   ]
  }
 ],
 "metadata": {
  "kernelspec": {
   "display_name": "Python 3",
   "language": "python",
   "name": "python3"
  },
  "language_info": {
   "codemirror_mode": {
    "name": "ipython",
    "version": 3
   },
   "file_extension": ".py",
   "mimetype": "text/x-python",
   "name": "python",
   "nbconvert_exporter": "python",
   "pygments_lexer": "ipython3",
   "version": "3.13.2"
  }
 },
 "nbformat": 4,
 "nbformat_minor": 2
}
