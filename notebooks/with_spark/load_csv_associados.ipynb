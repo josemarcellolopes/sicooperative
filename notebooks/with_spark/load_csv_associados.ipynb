{
 "cells": [
  {
   "cell_type": "code",
   "execution_count": 1,
   "metadata": {},
   "outputs": [],
   "source": [
    "import pandas as pd\n",
    "\n",
    "from sqlalchemy import create_engine"
   ]
  },
  {
   "cell_type": "code",
   "execution_count": 2,
   "metadata": {},
   "outputs": [],
   "source": [
    "username = 'sicooperative'\n",
    "password = 'sicooperative'\n",
    "host     = 'localhost'\n",
    "database = 'sicooperative'"
   ]
  },
  {
   "cell_type": "code",
   "execution_count": 3,
   "metadata": {},
   "outputs": [],
   "source": [
    "connection_string = f'mysql+mysqlconnector://{username}:{password}@{host}/{database}'"
   ]
  },
  {
   "cell_type": "code",
   "execution_count": 4,
   "metadata": {},
   "outputs": [],
   "source": [
    "engine = create_engine(connection_string)"
   ]
  },
  {
   "cell_type": "code",
   "execution_count": 5,
   "metadata": {},
   "outputs": [],
   "source": [
    "df = pd.read_csv('../data/associados.csv')"
   ]
  },
  {
   "cell_type": "code",
   "execution_count": 6,
   "metadata": {},
   "outputs": [
    {
     "data": {
      "text/html": [
       "<div>\n",
       "<style scoped>\n",
       "    .dataframe tbody tr th:only-of-type {\n",
       "        vertical-align: middle;\n",
       "    }\n",
       "\n",
       "    .dataframe tbody tr th {\n",
       "        vertical-align: top;\n",
       "    }\n",
       "\n",
       "    .dataframe thead th {\n",
       "        text-align: right;\n",
       "    }\n",
       "</style>\n",
       "<table border=\"1\" class=\"dataframe\">\n",
       "  <thead>\n",
       "    <tr style=\"text-align: right;\">\n",
       "      <th></th>\n",
       "      <th>id_associado</th>\n",
       "      <th>nome_associado</th>\n",
       "      <th>sobrenome_associado</th>\n",
       "      <th>idade_associado</th>\n",
       "      <th>email_associado</th>\n",
       "    </tr>\n",
       "  </thead>\n",
       "  <tbody>\n",
       "    <tr>\n",
       "      <th>0</th>\n",
       "      <td>1</td>\n",
       "      <td>Luiz Henrique</td>\n",
       "      <td>Castro</td>\n",
       "      <td>46</td>\n",
       "      <td>luizhenrique.castro@sicooperative.com.br</td>\n",
       "    </tr>\n",
       "    <tr>\n",
       "      <th>1</th>\n",
       "      <td>2</td>\n",
       "      <td>Maria Eduarda</td>\n",
       "      <td>Jesus</td>\n",
       "      <td>36</td>\n",
       "      <td>mariaeduarda.jesus@sicooperative.com.br</td>\n",
       "    </tr>\n",
       "    <tr>\n",
       "      <th>2</th>\n",
       "      <td>3</td>\n",
       "      <td>Joaquim</td>\n",
       "      <td>Cardoso</td>\n",
       "      <td>62</td>\n",
       "      <td>joaquim.cardoso@sicooperative.com.br</td>\n",
       "    </tr>\n",
       "    <tr>\n",
       "      <th>3</th>\n",
       "      <td>4</td>\n",
       "      <td>Luiz Otávio</td>\n",
       "      <td>da Mata</td>\n",
       "      <td>53</td>\n",
       "      <td>luizotávio.damata@sicooperative.com.br</td>\n",
       "    </tr>\n",
       "    <tr>\n",
       "      <th>4</th>\n",
       "      <td>5</td>\n",
       "      <td>Lorena</td>\n",
       "      <td>Dias</td>\n",
       "      <td>72</td>\n",
       "      <td>lorena.dias@sicooperative.com.br</td>\n",
       "    </tr>\n",
       "    <tr>\n",
       "      <th>...</th>\n",
       "      <td>...</td>\n",
       "      <td>...</td>\n",
       "      <td>...</td>\n",
       "      <td>...</td>\n",
       "      <td>...</td>\n",
       "    </tr>\n",
       "    <tr>\n",
       "      <th>95</th>\n",
       "      <td>96</td>\n",
       "      <td>Luiz Henrique</td>\n",
       "      <td>Rezende</td>\n",
       "      <td>80</td>\n",
       "      <td>luizhenrique.rezende@sicooperative.com.br</td>\n",
       "    </tr>\n",
       "    <tr>\n",
       "      <th>96</th>\n",
       "      <td>97</td>\n",
       "      <td>Ana Carolina</td>\n",
       "      <td>Freitas</td>\n",
       "      <td>42</td>\n",
       "      <td>anacarolina.freitas@sicooperative.com.br</td>\n",
       "    </tr>\n",
       "    <tr>\n",
       "      <th>97</th>\n",
       "      <td>98</td>\n",
       "      <td>Larissa</td>\n",
       "      <td>da Cunha</td>\n",
       "      <td>31</td>\n",
       "      <td>larissa.dacunha@sicooperative.com.br</td>\n",
       "    </tr>\n",
       "    <tr>\n",
       "      <th>98</th>\n",
       "      <td>99</td>\n",
       "      <td>Milena</td>\n",
       "      <td>Jesus</td>\n",
       "      <td>58</td>\n",
       "      <td>milena.jesus@sicooperative.com.br</td>\n",
       "    </tr>\n",
       "    <tr>\n",
       "      <th>99</th>\n",
       "      <td>100</td>\n",
       "      <td>Nicole</td>\n",
       "      <td>Lopes</td>\n",
       "      <td>35</td>\n",
       "      <td>nicole.lopes@sicooperative.com.br</td>\n",
       "    </tr>\n",
       "  </tbody>\n",
       "</table>\n",
       "<p>100 rows × 5 columns</p>\n",
       "</div>"
      ],
      "text/plain": [
       "    id_associado nome_associado sobrenome_associado  idade_associado  \\\n",
       "0              1  Luiz Henrique              Castro               46   \n",
       "1              2  Maria Eduarda               Jesus               36   \n",
       "2              3        Joaquim             Cardoso               62   \n",
       "3              4    Luiz Otávio             da Mata               53   \n",
       "4              5         Lorena                Dias               72   \n",
       "..           ...            ...                 ...              ...   \n",
       "95            96  Luiz Henrique             Rezende               80   \n",
       "96            97   Ana Carolina             Freitas               42   \n",
       "97            98        Larissa            da Cunha               31   \n",
       "98            99         Milena               Jesus               58   \n",
       "99           100         Nicole               Lopes               35   \n",
       "\n",
       "                              email_associado  \n",
       "0    luizhenrique.castro@sicooperative.com.br  \n",
       "1     mariaeduarda.jesus@sicooperative.com.br  \n",
       "2        joaquim.cardoso@sicooperative.com.br  \n",
       "3      luizotávio.damata@sicooperative.com.br  \n",
       "4            lorena.dias@sicooperative.com.br  \n",
       "..                                        ...  \n",
       "95  luizhenrique.rezende@sicooperative.com.br  \n",
       "96   anacarolina.freitas@sicooperative.com.br  \n",
       "97       larissa.dacunha@sicooperative.com.br  \n",
       "98          milena.jesus@sicooperative.com.br  \n",
       "99          nicole.lopes@sicooperative.com.br  \n",
       "\n",
       "[100 rows x 5 columns]"
      ]
     },
     "execution_count": 6,
     "metadata": {},
     "output_type": "execute_result"
    }
   ],
   "source": [
    "df"
   ]
  },
  {
   "cell_type": "code",
   "execution_count": 7,
   "metadata": {},
   "outputs": [],
   "source": [
    "if 'id_associado' in df.columns:\n",
    "\n",
    "    df = df.drop(columns=['id_associado'])"
   ]
  },
  {
   "cell_type": "code",
   "execution_count": 8,
   "metadata": {},
   "outputs": [
    {
     "data": {
      "text/plain": [
       "100"
      ]
     },
     "execution_count": 8,
     "metadata": {},
     "output_type": "execute_result"
    }
   ],
   "source": [
    "df.to_sql(name='associado', con=engine, if_exists=\"append\", index=False)"
   ]
  }
 ],
 "metadata": {
  "kernelspec": {
   "display_name": "Python 3",
   "language": "python",
   "name": "python3"
  },
  "language_info": {
   "codemirror_mode": {
    "name": "ipython",
    "version": 3
   },
   "file_extension": ".py",
   "mimetype": "text/x-python",
   "name": "python",
   "nbconvert_exporter": "python",
   "pygments_lexer": "ipython3",
   "version": "3.13.2"
  }
 },
 "nbformat": 4,
 "nbformat_minor": 2
}
